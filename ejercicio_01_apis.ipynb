{
 "cells": [
  {
   "cell_type": "markdown",
   "id": "804bd7d9",
   "metadata": {},
   "source": [
    "## 1. Extraer información de las alumnas:"
   ]
  },
  {
   "cell_type": "code",
   "execution_count": 2,
   "id": "0bb0ae62",
   "metadata": {},
   "outputs": [],
   "source": [
    "import requests"
   ]
  },
  {
   "cell_type": "code",
   "execution_count": 5,
   "id": "01eeaf50",
   "metadata": {},
   "outputs": [],
   "source": [
    "url = \"https://beta.adalab.es/curso-intensivo-fullstack-recursos/apis/alumnos-v1/alumnos.json\""
   ]
  },
  {
   "cell_type": "code",
   "execution_count": 7,
   "id": "dda836d5",
   "metadata": {},
   "outputs": [
    {
     "data": {
      "text/plain": [
       "'https://beta.adalab.es/curso-intensivo-fullstack-recursos/apis/alumnos-v1/alumnos.json'"
      ]
     },
     "execution_count": 7,
     "metadata": {},
     "output_type": "execute_result"
    }
   ],
   "source": [
    "url"
   ]
  },
  {
   "cell_type": "code",
   "execution_count": 8,
   "id": "ca701419",
   "metadata": {},
   "outputs": [],
   "source": [
    "res = requests.get(url)"
   ]
  },
  {
   "cell_type": "code",
   "execution_count": 9,
   "id": "62cf7186",
   "metadata": {},
   "outputs": [
    {
     "data": {
      "text/plain": [
       "200"
      ]
     },
     "execution_count": 9,
     "metadata": {},
     "output_type": "execute_result"
    }
   ],
   "source": [
    "res.status_code"
   ]
  },
  {
   "cell_type": "code",
   "execution_count": 10,
   "id": "a6761234",
   "metadata": {},
   "outputs": [
    {
     "data": {
      "text/plain": [
       "b'{\\n    \"info\": {\\n        \"count\": 20,\\n        \"pages\": 1,\\n        \"currentPage\": 1,\\n        \"next\": null,\\n        \"prev\": null\\n    },\\n    \"results\": [\\n        {\\n            \"num_expediente\": 1001,\\n            \"nombre\": \"Ana\",\\n            \"apellidos\": \"Mart\\xc3\\xadnez\",\\n            \"fecha_nacimiento\": \"2005-03-15\"\\n        },\\n        {\\n            \"num_expediente\": 1002,\\n            \"nombre\": \"Luis\",\\n            \"apellidos\": \"Fern\\xc3\\xa1ndez\",\\n            \"fecha_nacimiento\": \"2004-11-22\"\\n        },\\n        {\\n            \"num_expediente\": 1003,\\n            \"nombre\": \"Clara\",\\n            \"apellidos\": \"Ruiz\",\\n            \"fecha_nacimiento\": \"2006-01-10\"\\n        },\\n        {\\n            \"num_expediente\": 1004,\\n            \"nombre\": \"Pedro\",\\n            \"apellidos\": \"S\\xc3\\xa1nchez\",\\n            \"fecha_nacimiento\": \"2005-07-08\"\\n        },\\n        {\\n            \"num_expediente\": 1005,\\n            \"nombre\": \"Luc\\xc3\\xada\",\\n            \"apellidos\": \"Torres\",\\n            \"fecha_nacimiento\": \"2004-09-18\"\\n        },\\n        {\\n            \"num_expediente\": 1006,\\n            \"nombre\": \"Javier\",\\n            \"apellidos\": \"Gonz\\xc3\\xa1lez\",\\n            \"fecha_nacimiento\": \"2006-06-24\"\\n        },\\n        {\\n            \"num_expediente\": 1007,\\n            \"nombre\": \"Mar\\xc3\\xada\",\\n            \"apellidos\": \"L\\xc3\\xb3pez\",\\n            \"fecha_nacimiento\": \"2005-04-10\"\\n        },\\n        {\\n            \"num_expediente\": 1008,\\n            \"nombre\": \"David\",\\n            \"apellidos\": \"P\\xc3\\xa9rez\",\\n            \"fecha_nacimiento\": \"2004-12-12\"\\n        },\\n        {\\n            \"num_expediente\": 1009,\\n            \"nombre\": \"Sara\",\\n            \"apellidos\": \"Garc\\xc3\\xada\",\\n            \"fecha_nacimiento\": \"2005-08-15\"\\n        },\\n        {\\n            \"num_expediente\": 1010,\\n            \"nombre\": \"Ricardo\",\\n            \"apellidos\": \"Mart\\xc3\\xadn\",\\n            \"fecha_nacimiento\": \"2006-03-22\"\\n        },\\n        {\\n            \"num_expediente\": 1011,\\n            \"nombre\": \"Alba\",\\n            \"apellidos\": \"V\\xc3\\xa1zquez\",\\n            \"fecha_nacimiento\": \"2004-05-05\"\\n        },\\n        {\\n            \"num_expediente\": 1012,\\n            \"nombre\": \"Carlos\",\\n            \"apellidos\": \"Serrano\",\\n            \"fecha_nacimiento\": \"2005-02-28\"\\n        },\\n        {\\n            \"num_expediente\": 1013,\\n            \"nombre\": \"Elena\",\\n            \"apellidos\": \"Ram\\xc3\\xadrez\",\\n            \"fecha_nacimiento\": \"2006-08-01\"\\n        },\\n        {\\n            \"num_expediente\": 1014,\\n            \"nombre\": \"Iv\\xc3\\xa1n\",\\n            \"apellidos\": \"Hern\\xc3\\xa1ndez\",\\n            \"fecha_nacimiento\": \"2005-10-30\"\\n        },\\n        {\\n            \"num_expediente\": 1015,\\n            \"nombre\": \"Laura\",\\n            \"apellidos\": \"Jim\\xc3\\xa9nez\",\\n            \"fecha_nacimiento\": \"2004-07-14\"\\n        },\\n        {\\n            \"num_expediente\": 1016,\\n            \"nombre\": \"Tom\\xc3\\xa1s\",\\n            \"apellidos\": \"L\\xc3\\xb3pez\",\\n            \"fecha_nacimiento\": \"2005-12-18\"\\n        },\\n        {\\n            \"num_expediente\": 1017,\\n            \"nombre\": \"Paula\",\\n            \"apellidos\": \"Fern\\xc3\\xa1ndez\",\\n            \"fecha_nacimiento\": \"2006-02-06\"\\n        },\\n        {\\n            \"num_expediente\": 1018,\\n            \"nombre\": \"Mario\",\\n            \"apellidos\": \"D\\xc3\\xadaz\",\\n            \"fecha_nacimiento\": \"2004-11-30\"\\n        },\\n        {\\n            \"num_expediente\": 1019,\\n            \"nombre\": \"Raquel\",\\n            \"apellidos\": \"Gonz\\xc3\\xa1lez\",\\n            \"fecha_nacimiento\": \"2005-09-23\"\\n        },\\n        {\\n            \"num_expediente\": 1020,\\n            \"nombre\": \"Jorge\",\\n            \"apellidos\": \"\\xc3\\x81lvarez\",\\n            \"fecha_nacimiento\": \"2006-05-17\"\\n        }\\n    ]\\n}'"
      ]
     },
     "execution_count": 10,
     "metadata": {},
     "output_type": "execute_result"
    }
   ],
   "source": [
    "res.content"
   ]
  },
  {
   "cell_type": "code",
   "execution_count": 12,
   "id": "985997c6",
   "metadata": {},
   "outputs": [
    {
     "data": {
      "text/plain": [
       "{'info': {'count': 20,\n",
       "  'pages': 1,\n",
       "  'currentPage': 1,\n",
       "  'next': None,\n",
       "  'prev': None},\n",
       " 'results': [{'num_expediente': 1001,\n",
       "   'nombre': 'Ana',\n",
       "   'apellidos': 'Martínez',\n",
       "   'fecha_nacimiento': '2005-03-15'},\n",
       "  {'num_expediente': 1002,\n",
       "   'nombre': 'Luis',\n",
       "   'apellidos': 'Fernández',\n",
       "   'fecha_nacimiento': '2004-11-22'},\n",
       "  {'num_expediente': 1003,\n",
       "   'nombre': 'Clara',\n",
       "   'apellidos': 'Ruiz',\n",
       "   'fecha_nacimiento': '2006-01-10'},\n",
       "  {'num_expediente': 1004,\n",
       "   'nombre': 'Pedro',\n",
       "   'apellidos': 'Sánchez',\n",
       "   'fecha_nacimiento': '2005-07-08'},\n",
       "  {'num_expediente': 1005,\n",
       "   'nombre': 'Lucía',\n",
       "   'apellidos': 'Torres',\n",
       "   'fecha_nacimiento': '2004-09-18'},\n",
       "  {'num_expediente': 1006,\n",
       "   'nombre': 'Javier',\n",
       "   'apellidos': 'González',\n",
       "   'fecha_nacimiento': '2006-06-24'},\n",
       "  {'num_expediente': 1007,\n",
       "   'nombre': 'María',\n",
       "   'apellidos': 'López',\n",
       "   'fecha_nacimiento': '2005-04-10'},\n",
       "  {'num_expediente': 1008,\n",
       "   'nombre': 'David',\n",
       "   'apellidos': 'Pérez',\n",
       "   'fecha_nacimiento': '2004-12-12'},\n",
       "  {'num_expediente': 1009,\n",
       "   'nombre': 'Sara',\n",
       "   'apellidos': 'García',\n",
       "   'fecha_nacimiento': '2005-08-15'},\n",
       "  {'num_expediente': 1010,\n",
       "   'nombre': 'Ricardo',\n",
       "   'apellidos': 'Martín',\n",
       "   'fecha_nacimiento': '2006-03-22'},\n",
       "  {'num_expediente': 1011,\n",
       "   'nombre': 'Alba',\n",
       "   'apellidos': 'Vázquez',\n",
       "   'fecha_nacimiento': '2004-05-05'},\n",
       "  {'num_expediente': 1012,\n",
       "   'nombre': 'Carlos',\n",
       "   'apellidos': 'Serrano',\n",
       "   'fecha_nacimiento': '2005-02-28'},\n",
       "  {'num_expediente': 1013,\n",
       "   'nombre': 'Elena',\n",
       "   'apellidos': 'Ramírez',\n",
       "   'fecha_nacimiento': '2006-08-01'},\n",
       "  {'num_expediente': 1014,\n",
       "   'nombre': 'Iván',\n",
       "   'apellidos': 'Hernández',\n",
       "   'fecha_nacimiento': '2005-10-30'},\n",
       "  {'num_expediente': 1015,\n",
       "   'nombre': 'Laura',\n",
       "   'apellidos': 'Jiménez',\n",
       "   'fecha_nacimiento': '2004-07-14'},\n",
       "  {'num_expediente': 1016,\n",
       "   'nombre': 'Tomás',\n",
       "   'apellidos': 'López',\n",
       "   'fecha_nacimiento': '2005-12-18'},\n",
       "  {'num_expediente': 1017,\n",
       "   'nombre': 'Paula',\n",
       "   'apellidos': 'Fernández',\n",
       "   'fecha_nacimiento': '2006-02-06'},\n",
       "  {'num_expediente': 1018,\n",
       "   'nombre': 'Mario',\n",
       "   'apellidos': 'Díaz',\n",
       "   'fecha_nacimiento': '2004-11-30'},\n",
       "  {'num_expediente': 1019,\n",
       "   'nombre': 'Raquel',\n",
       "   'apellidos': 'González',\n",
       "   'fecha_nacimiento': '2005-09-23'},\n",
       "  {'num_expediente': 1020,\n",
       "   'nombre': 'Jorge',\n",
       "   'apellidos': 'Álvarez',\n",
       "   'fecha_nacimiento': '2006-05-17'}]}"
      ]
     },
     "execution_count": 12,
     "metadata": {},
     "output_type": "execute_result"
    }
   ],
   "source": [
    "res.json()"
   ]
  },
  {
   "cell_type": "code",
   "execution_count": 13,
   "id": "b9d4f880",
   "metadata": {},
   "outputs": [
    {
     "data": {
      "text/plain": [
       "dict"
      ]
     },
     "execution_count": 13,
     "metadata": {},
     "output_type": "execute_result"
    }
   ],
   "source": [
    "type(res.json())"
   ]
  },
  {
   "cell_type": "code",
   "execution_count": 14,
   "id": "d64ef0ea",
   "metadata": {},
   "outputs": [
    {
     "data": {
      "text/plain": [
       "2"
      ]
     },
     "execution_count": 14,
     "metadata": {},
     "output_type": "execute_result"
    }
   ],
   "source": [
    "len(res.json())"
   ]
  },
  {
   "cell_type": "code",
   "execution_count": 16,
   "id": "46be33d2",
   "metadata": {},
   "outputs": [],
   "source": [
    "datos = res.json()"
   ]
  },
  {
   "cell_type": "code",
   "execution_count": 20,
   "id": "9089e0da",
   "metadata": {},
   "outputs": [
    {
     "data": {
      "text/plain": [
       "dict"
      ]
     },
     "execution_count": 20,
     "metadata": {},
     "output_type": "execute_result"
    }
   ],
   "source": [
    "type(datos)"
   ]
  },
  {
   "cell_type": "code",
   "execution_count": 21,
   "id": "776b9a28",
   "metadata": {},
   "outputs": [
    {
     "data": {
      "text/plain": [
       "2"
      ]
     },
     "execution_count": 21,
     "metadata": {},
     "output_type": "execute_result"
    }
   ],
   "source": [
    "len(datos)"
   ]
  },
  {
   "cell_type": "code",
   "execution_count": 30,
   "id": "dd86586a",
   "metadata": {},
   "outputs": [
    {
     "data": {
      "text/plain": [
       "dict_keys(['info', 'results'])"
      ]
     },
     "execution_count": 30,
     "metadata": {},
     "output_type": "execute_result"
    }
   ],
   "source": [
    "datos.keys()"
   ]
  },
  {
   "cell_type": "code",
   "execution_count": 22,
   "id": "76001d1d",
   "metadata": {},
   "outputs": [
    {
     "data": {
      "text/plain": [
       "[{'num_expediente': 1001,\n",
       "  'nombre': 'Ana',\n",
       "  'apellidos': 'Martínez',\n",
       "  'fecha_nacimiento': '2005-03-15'},\n",
       " {'num_expediente': 1002,\n",
       "  'nombre': 'Luis',\n",
       "  'apellidos': 'Fernández',\n",
       "  'fecha_nacimiento': '2004-11-22'},\n",
       " {'num_expediente': 1003,\n",
       "  'nombre': 'Clara',\n",
       "  'apellidos': 'Ruiz',\n",
       "  'fecha_nacimiento': '2006-01-10'},\n",
       " {'num_expediente': 1004,\n",
       "  'nombre': 'Pedro',\n",
       "  'apellidos': 'Sánchez',\n",
       "  'fecha_nacimiento': '2005-07-08'},\n",
       " {'num_expediente': 1005,\n",
       "  'nombre': 'Lucía',\n",
       "  'apellidos': 'Torres',\n",
       "  'fecha_nacimiento': '2004-09-18'},\n",
       " {'num_expediente': 1006,\n",
       "  'nombre': 'Javier',\n",
       "  'apellidos': 'González',\n",
       "  'fecha_nacimiento': '2006-06-24'},\n",
       " {'num_expediente': 1007,\n",
       "  'nombre': 'María',\n",
       "  'apellidos': 'López',\n",
       "  'fecha_nacimiento': '2005-04-10'},\n",
       " {'num_expediente': 1008,\n",
       "  'nombre': 'David',\n",
       "  'apellidos': 'Pérez',\n",
       "  'fecha_nacimiento': '2004-12-12'},\n",
       " {'num_expediente': 1009,\n",
       "  'nombre': 'Sara',\n",
       "  'apellidos': 'García',\n",
       "  'fecha_nacimiento': '2005-08-15'},\n",
       " {'num_expediente': 1010,\n",
       "  'nombre': 'Ricardo',\n",
       "  'apellidos': 'Martín',\n",
       "  'fecha_nacimiento': '2006-03-22'},\n",
       " {'num_expediente': 1011,\n",
       "  'nombre': 'Alba',\n",
       "  'apellidos': 'Vázquez',\n",
       "  'fecha_nacimiento': '2004-05-05'},\n",
       " {'num_expediente': 1012,\n",
       "  'nombre': 'Carlos',\n",
       "  'apellidos': 'Serrano',\n",
       "  'fecha_nacimiento': '2005-02-28'},\n",
       " {'num_expediente': 1013,\n",
       "  'nombre': 'Elena',\n",
       "  'apellidos': 'Ramírez',\n",
       "  'fecha_nacimiento': '2006-08-01'},\n",
       " {'num_expediente': 1014,\n",
       "  'nombre': 'Iván',\n",
       "  'apellidos': 'Hernández',\n",
       "  'fecha_nacimiento': '2005-10-30'},\n",
       " {'num_expediente': 1015,\n",
       "  'nombre': 'Laura',\n",
       "  'apellidos': 'Jiménez',\n",
       "  'fecha_nacimiento': '2004-07-14'},\n",
       " {'num_expediente': 1016,\n",
       "  'nombre': 'Tomás',\n",
       "  'apellidos': 'López',\n",
       "  'fecha_nacimiento': '2005-12-18'},\n",
       " {'num_expediente': 1017,\n",
       "  'nombre': 'Paula',\n",
       "  'apellidos': 'Fernández',\n",
       "  'fecha_nacimiento': '2006-02-06'},\n",
       " {'num_expediente': 1018,\n",
       "  'nombre': 'Mario',\n",
       "  'apellidos': 'Díaz',\n",
       "  'fecha_nacimiento': '2004-11-30'},\n",
       " {'num_expediente': 1019,\n",
       "  'nombre': 'Raquel',\n",
       "  'apellidos': 'González',\n",
       "  'fecha_nacimiento': '2005-09-23'},\n",
       " {'num_expediente': 1020,\n",
       "  'nombre': 'Jorge',\n",
       "  'apellidos': 'Álvarez',\n",
       "  'fecha_nacimiento': '2006-05-17'}]"
      ]
     },
     "execution_count": 22,
     "metadata": {},
     "output_type": "execute_result"
    }
   ],
   "source": [
    "datos.get(\"results\",0)"
   ]
  },
  {
   "cell_type": "code",
   "execution_count": 23,
   "id": "810a93d7",
   "metadata": {},
   "outputs": [],
   "source": [
    "results = datos.get(\"results\",0)"
   ]
  },
  {
   "cell_type": "code",
   "execution_count": 24,
   "id": "4488d314",
   "metadata": {},
   "outputs": [
    {
     "data": {
      "text/plain": [
       "list"
      ]
     },
     "execution_count": 24,
     "metadata": {},
     "output_type": "execute_result"
    }
   ],
   "source": [
    "type(results)"
   ]
  },
  {
   "cell_type": "code",
   "execution_count": 38,
   "id": "db2bf40f",
   "metadata": {},
   "outputs": [],
   "source": [
    "results_ext = []\n",
    "\n",
    "for alumna in results:\n",
    "   alumna1 = (alumna[\"num_expediente\"], alumna[\"nombre\"], alumna[\"apellidos\"])\n",
    "   results_ext.append(alumna1)\n"
   ]
  },
  {
   "cell_type": "code",
   "execution_count": 39,
   "id": "718d26ed",
   "metadata": {},
   "outputs": [
    {
     "data": {
      "text/plain": [
       "[(1001, 'Ana', 'Martínez'),\n",
       " (1002, 'Luis', 'Fernández'),\n",
       " (1003, 'Clara', 'Ruiz'),\n",
       " (1004, 'Pedro', 'Sánchez'),\n",
       " (1005, 'Lucía', 'Torres'),\n",
       " (1006, 'Javier', 'González'),\n",
       " (1007, 'María', 'López'),\n",
       " (1008, 'David', 'Pérez'),\n",
       " (1009, 'Sara', 'García'),\n",
       " (1010, 'Ricardo', 'Martín'),\n",
       " (1011, 'Alba', 'Vázquez'),\n",
       " (1012, 'Carlos', 'Serrano'),\n",
       " (1013, 'Elena', 'Ramírez'),\n",
       " (1014, 'Iván', 'Hernández'),\n",
       " (1015, 'Laura', 'Jiménez'),\n",
       " (1016, 'Tomás', 'López'),\n",
       " (1017, 'Paula', 'Fernández'),\n",
       " (1018, 'Mario', 'Díaz'),\n",
       " (1019, 'Raquel', 'González'),\n",
       " (1020, 'Jorge', 'Álvarez')]"
      ]
     },
     "execution_count": 39,
     "metadata": {},
     "output_type": "execute_result"
    }
   ],
   "source": [
    "results_ext"
   ]
  },
  {
   "cell_type": "code",
   "execution_count": 41,
   "id": "561e2641",
   "metadata": {},
   "outputs": [],
   "source": [
    "import pandas"
   ]
  },
  {
   "cell_type": "code",
   "execution_count": 62,
   "id": "42e63d2d",
   "metadata": {},
   "outputs": [
    {
     "data": {
      "text/html": [
       "<div>\n",
       "<style scoped>\n",
       "    .dataframe tbody tr th:only-of-type {\n",
       "        vertical-align: middle;\n",
       "    }\n",
       "\n",
       "    .dataframe tbody tr th {\n",
       "        vertical-align: top;\n",
       "    }\n",
       "\n",
       "    .dataframe thead th {\n",
       "        text-align: right;\n",
       "    }\n",
       "</style>\n",
       "<table border=\"1\" class=\"dataframe\">\n",
       "  <thead>\n",
       "    <tr style=\"text-align: right;\">\n",
       "      <th></th>\n",
       "      <th>0</th>\n",
       "      <th>1</th>\n",
       "      <th>2</th>\n",
       "    </tr>\n",
       "  </thead>\n",
       "  <tbody>\n",
       "    <tr>\n",
       "      <th>0</th>\n",
       "      <td>1001</td>\n",
       "      <td>Ana</td>\n",
       "      <td>Martínez</td>\n",
       "    </tr>\n",
       "    <tr>\n",
       "      <th>1</th>\n",
       "      <td>1002</td>\n",
       "      <td>Luis</td>\n",
       "      <td>Fernández</td>\n",
       "    </tr>\n",
       "    <tr>\n",
       "      <th>2</th>\n",
       "      <td>1003</td>\n",
       "      <td>Clara</td>\n",
       "      <td>Ruiz</td>\n",
       "    </tr>\n",
       "    <tr>\n",
       "      <th>3</th>\n",
       "      <td>1004</td>\n",
       "      <td>Pedro</td>\n",
       "      <td>Sánchez</td>\n",
       "    </tr>\n",
       "    <tr>\n",
       "      <th>4</th>\n",
       "      <td>1005</td>\n",
       "      <td>Lucía</td>\n",
       "      <td>Torres</td>\n",
       "    </tr>\n",
       "    <tr>\n",
       "      <th>5</th>\n",
       "      <td>1006</td>\n",
       "      <td>Javier</td>\n",
       "      <td>González</td>\n",
       "    </tr>\n",
       "    <tr>\n",
       "      <th>6</th>\n",
       "      <td>1007</td>\n",
       "      <td>María</td>\n",
       "      <td>López</td>\n",
       "    </tr>\n",
       "    <tr>\n",
       "      <th>7</th>\n",
       "      <td>1008</td>\n",
       "      <td>David</td>\n",
       "      <td>Pérez</td>\n",
       "    </tr>\n",
       "    <tr>\n",
       "      <th>8</th>\n",
       "      <td>1009</td>\n",
       "      <td>Sara</td>\n",
       "      <td>García</td>\n",
       "    </tr>\n",
       "    <tr>\n",
       "      <th>9</th>\n",
       "      <td>1010</td>\n",
       "      <td>Ricardo</td>\n",
       "      <td>Martín</td>\n",
       "    </tr>\n",
       "    <tr>\n",
       "      <th>10</th>\n",
       "      <td>1011</td>\n",
       "      <td>Alba</td>\n",
       "      <td>Vázquez</td>\n",
       "    </tr>\n",
       "    <tr>\n",
       "      <th>11</th>\n",
       "      <td>1012</td>\n",
       "      <td>Carlos</td>\n",
       "      <td>Serrano</td>\n",
       "    </tr>\n",
       "    <tr>\n",
       "      <th>12</th>\n",
       "      <td>1013</td>\n",
       "      <td>Elena</td>\n",
       "      <td>Ramírez</td>\n",
       "    </tr>\n",
       "    <tr>\n",
       "      <th>13</th>\n",
       "      <td>1014</td>\n",
       "      <td>Iván</td>\n",
       "      <td>Hernández</td>\n",
       "    </tr>\n",
       "    <tr>\n",
       "      <th>14</th>\n",
       "      <td>1015</td>\n",
       "      <td>Laura</td>\n",
       "      <td>Jiménez</td>\n",
       "    </tr>\n",
       "    <tr>\n",
       "      <th>15</th>\n",
       "      <td>1016</td>\n",
       "      <td>Tomás</td>\n",
       "      <td>López</td>\n",
       "    </tr>\n",
       "    <tr>\n",
       "      <th>16</th>\n",
       "      <td>1017</td>\n",
       "      <td>Paula</td>\n",
       "      <td>Fernández</td>\n",
       "    </tr>\n",
       "    <tr>\n",
       "      <th>17</th>\n",
       "      <td>1018</td>\n",
       "      <td>Mario</td>\n",
       "      <td>Díaz</td>\n",
       "    </tr>\n",
       "    <tr>\n",
       "      <th>18</th>\n",
       "      <td>1019</td>\n",
       "      <td>Raquel</td>\n",
       "      <td>González</td>\n",
       "    </tr>\n",
       "    <tr>\n",
       "      <th>19</th>\n",
       "      <td>1020</td>\n",
       "      <td>Jorge</td>\n",
       "      <td>Álvarez</td>\n",
       "    </tr>\n",
       "  </tbody>\n",
       "</table>\n",
       "</div>"
      ],
      "text/plain": [
       "       0        1          2\n",
       "0   1001      Ana   Martínez\n",
       "1   1002     Luis  Fernández\n",
       "2   1003    Clara       Ruiz\n",
       "3   1004    Pedro    Sánchez\n",
       "4   1005    Lucía     Torres\n",
       "5   1006   Javier   González\n",
       "6   1007    María      López\n",
       "7   1008    David      Pérez\n",
       "8   1009     Sara     García\n",
       "9   1010  Ricardo     Martín\n",
       "10  1011     Alba    Vázquez\n",
       "11  1012   Carlos    Serrano\n",
       "12  1013    Elena    Ramírez\n",
       "13  1014     Iván  Hernández\n",
       "14  1015    Laura    Jiménez\n",
       "15  1016    Tomás      López\n",
       "16  1017    Paula  Fernández\n",
       "17  1018    Mario       Díaz\n",
       "18  1019   Raquel   González\n",
       "19  1020    Jorge    Álvarez"
      ]
     },
     "execution_count": 62,
     "metadata": {},
     "output_type": "execute_result"
    }
   ],
   "source": [
    "df = pandas.DataFrame(results_ext)  \n",
    "df"
   ]
  },
  {
   "cell_type": "markdown",
   "id": "4df5cbe4",
   "metadata": {},
   "source": [
    "Enunciado - Obtener datos energéticos usando la API de Red Eléctrica.\n",
    "\n",
    "Descripción: La empresa para la que trabajamos dispone de una base de datos que contiene información sobre el número de personas censadas en las distintas Comunidades Autónomas españolas desde 1998 hasta 2022. El objetivo es enriquecer estos datos con información sobre la generación de energía renovable y no renovable, utilizando la API de REData, la cual proporciona información sobre el mercado energético en España. Puedes encontrar la documentación de la API aquí."
   ]
  },
  {
   "cell_type": "code",
   "execution_count": 66,
   "id": "7cd540ad",
   "metadata": {},
   "outputs": [],
   "source": [
    "url_2 = \"https://apidatos.ree.es/es/datos/generacion/evolucion-renovable-no-renovable?start_date=2011-01-01T00:00:00&end_date=2011-12-31T00:00:00\""
   ]
  },
  {
   "cell_type": "code",
   "execution_count": 67,
   "id": "4528adf2",
   "metadata": {},
   "outputs": [],
   "source": [
    "res_2 = requests.get(url_2)"
   ]
  },
  {
   "cell_type": "code",
   "execution_count": 68,
   "id": "c10d0d86",
   "metadata": {},
   "outputs": [
    {
     "data": {
      "text/plain": [
       "500"
      ]
     },
     "execution_count": 68,
     "metadata": {},
     "output_type": "execute_result"
    }
   ],
   "source": [
    "res_2.status_code"
   ]
  },
  {
   "cell_type": "code",
   "execution_count": 70,
   "id": "154a8375",
   "metadata": {},
   "outputs": [],
   "source": [
    "url_3 = f\"https://apidatos.ree.es/es/datos/generacion/estructura-generacion?start_date=2011-01-01T00:00&end_date=2011-12-31T23:59&time_trunc=month\""
   ]
  },
  {
   "cell_type": "code",
   "execution_count": 71,
   "id": "16477ec8",
   "metadata": {},
   "outputs": [
    {
     "data": {
      "text/plain": [
       "<Response [200]>"
      ]
     },
     "execution_count": 71,
     "metadata": {},
     "output_type": "execute_result"
    }
   ],
   "source": [
    "requests.get(url_3)"
   ]
  },
  {
   "cell_type": "code",
   "execution_count": null,
   "id": "6db9fe60",
   "metadata": {},
   "outputs": [],
   "source": []
  }
 ],
 "metadata": {
  "kernelspec": {
   "display_name": "base",
   "language": "python",
   "name": "python3"
  },
  "language_info": {
   "codemirror_mode": {
    "name": "ipython",
    "version": 3
   },
   "file_extension": ".py",
   "mimetype": "text/x-python",
   "name": "python",
   "nbconvert_exporter": "python",
   "pygments_lexer": "ipython3",
   "version": "3.13.5"
  }
 },
 "nbformat": 4,
 "nbformat_minor": 5
}
