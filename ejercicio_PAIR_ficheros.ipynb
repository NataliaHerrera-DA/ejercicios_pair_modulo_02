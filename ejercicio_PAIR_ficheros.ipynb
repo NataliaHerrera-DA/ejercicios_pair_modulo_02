{
 "cells": [
  {
   "cell_type": "code",
   "execution_count": 1,
   "id": "616f8c77",
   "metadata": {},
   "outputs": [],
   "source": [
    "import pandas as pd\n",
    "\n"
   ]
  },
  {
   "cell_type": "code",
   "execution_count": 4,
   "id": "c9a4330e",
   "metadata": {},
   "outputs": [],
   "source": [
    "df_videogames = pd.read_csv(\"ejercicios_pair_modulo_02/archivos_csv/videogames.csv\", index_col = 0)"
   ]
  },
  {
   "cell_type": "code",
   "execution_count": 6,
   "id": "bce94eda",
   "metadata": {},
   "outputs": [
    {
     "data": {
      "text/html": [
       "<div>\n",
       "<style scoped>\n",
       "    .dataframe tbody tr th:only-of-type {\n",
       "        vertical-align: middle;\n",
       "    }\n",
       "\n",
       "    .dataframe tbody tr th {\n",
       "        vertical-align: top;\n",
       "    }\n",
       "\n",
       "    .dataframe thead th {\n",
       "        text-align: right;\n",
       "    }\n",
       "</style>\n",
       "<table border=\"1\" class=\"dataframe\">\n",
       "  <thead>\n",
       "    <tr style=\"text-align: right;\">\n",
       "      <th></th>\n",
       "      <th>name</th>\n",
       "      <th>url</th>\n",
       "      <th>year</th>\n",
       "      <th>certificate</th>\n",
       "      <th>rating</th>\n",
       "      <th>votes</th>\n",
       "      <th>plot</th>\n",
       "      <th>Action</th>\n",
       "      <th>Adventure</th>\n",
       "      <th>Comedy</th>\n",
       "      <th>Crime</th>\n",
       "      <th>Family</th>\n",
       "      <th>Fantasy</th>\n",
       "      <th>Mystery</th>\n",
       "      <th>Sci-Fi</th>\n",
       "      <th>Thriller</th>\n",
       "    </tr>\n",
       "  </thead>\n",
       "  <tbody>\n",
       "    <tr>\n",
       "      <th>0</th>\n",
       "      <td>Spider-Man</td>\n",
       "      <td>https://www.imdb.com/title/tt5807780/?ref_=adv...</td>\n",
       "      <td>2018.0</td>\n",
       "      <td>T</td>\n",
       "      <td>9.2</td>\n",
       "      <td>20,759</td>\n",
       "      <td>When a new villain threatens New York City, Pe...</td>\n",
       "      <td>True</td>\n",
       "      <td>True</td>\n",
       "      <td>False</td>\n",
       "      <td>False</td>\n",
       "      <td>False</td>\n",
       "      <td>True</td>\n",
       "      <td>False</td>\n",
       "      <td>False</td>\n",
       "      <td>False</td>\n",
       "    </tr>\n",
       "    <tr>\n",
       "      <th>1</th>\n",
       "      <td>Red Dead Redemption II</td>\n",
       "      <td>https://www.imdb.com/title/tt6161168/?ref_=adv...</td>\n",
       "      <td>2018.0</td>\n",
       "      <td>M</td>\n",
       "      <td>9.7</td>\n",
       "      <td>35,703</td>\n",
       "      <td>Amidst the decline of the Wild West at the tur...</td>\n",
       "      <td>True</td>\n",
       "      <td>True</td>\n",
       "      <td>False</td>\n",
       "      <td>True</td>\n",
       "      <td>False</td>\n",
       "      <td>False</td>\n",
       "      <td>False</td>\n",
       "      <td>False</td>\n",
       "      <td>False</td>\n",
       "    </tr>\n",
       "  </tbody>\n",
       "</table>\n",
       "</div>"
      ],
      "text/plain": [
       "                     name                                                url  \\\n",
       "0              Spider-Man  https://www.imdb.com/title/tt5807780/?ref_=adv...   \n",
       "1  Red Dead Redemption II  https://www.imdb.com/title/tt6161168/?ref_=adv...   \n",
       "\n",
       "     year certificate  rating   votes  \\\n",
       "0  2018.0           T     9.2  20,759   \n",
       "1  2018.0           M     9.7  35,703   \n",
       "\n",
       "                                                plot  Action  Adventure  \\\n",
       "0  When a new villain threatens New York City, Pe...    True       True   \n",
       "1  Amidst the decline of the Wild West at the tur...    True       True   \n",
       "\n",
       "   Comedy  Crime  Family  Fantasy  Mystery  Sci-Fi  Thriller  \n",
       "0   False  False   False     True    False   False     False  \n",
       "1   False   True   False    False    False   False     False  "
      ]
     },
     "execution_count": 6,
     "metadata": {},
     "output_type": "execute_result"
    }
   ],
   "source": [
    "df_videogames.head(2)"
   ]
  },
  {
   "cell_type": "code",
   "execution_count": 7,
   "id": "4da12549",
   "metadata": {},
   "outputs": [],
   "source": [
    "df_videogames.to_excel(\"ejercicios_pair_modulo_02/archivos_csv/videogames.xlsx\")"
   ]
  },
  {
   "cell_type": "code",
   "execution_count": 10,
   "id": "8fd7451d",
   "metadata": {},
   "outputs": [],
   "source": [
    "df_excel = pd.read_excel(\"ejercicios_pair_modulo_02/archivos_csv/videogames.xlsx\", index_col = 0)"
   ]
  },
  {
   "cell_type": "code",
   "execution_count": 11,
   "id": "20b2aef4",
   "metadata": {},
   "outputs": [
    {
     "data": {
      "text/html": [
       "<div>\n",
       "<style scoped>\n",
       "    .dataframe tbody tr th:only-of-type {\n",
       "        vertical-align: middle;\n",
       "    }\n",
       "\n",
       "    .dataframe tbody tr th {\n",
       "        vertical-align: top;\n",
       "    }\n",
       "\n",
       "    .dataframe thead th {\n",
       "        text-align: right;\n",
       "    }\n",
       "</style>\n",
       "<table border=\"1\" class=\"dataframe\">\n",
       "  <thead>\n",
       "    <tr style=\"text-align: right;\">\n",
       "      <th></th>\n",
       "      <th>name</th>\n",
       "      <th>url</th>\n",
       "      <th>year</th>\n",
       "      <th>certificate</th>\n",
       "      <th>rating</th>\n",
       "      <th>votes</th>\n",
       "      <th>plot</th>\n",
       "      <th>Action</th>\n",
       "      <th>Adventure</th>\n",
       "      <th>Comedy</th>\n",
       "      <th>Crime</th>\n",
       "      <th>Family</th>\n",
       "      <th>Fantasy</th>\n",
       "      <th>Mystery</th>\n",
       "      <th>Sci-Fi</th>\n",
       "      <th>Thriller</th>\n",
       "    </tr>\n",
       "  </thead>\n",
       "  <tbody>\n",
       "    <tr>\n",
       "      <th>0</th>\n",
       "      <td>Spider-Man</td>\n",
       "      <td>https://www.imdb.com/title/tt5807780/?ref_=adv...</td>\n",
       "      <td>2018.0</td>\n",
       "      <td>T</td>\n",
       "      <td>9.2</td>\n",
       "      <td>20,759</td>\n",
       "      <td>When a new villain threatens New York City, Pe...</td>\n",
       "      <td>True</td>\n",
       "      <td>True</td>\n",
       "      <td>False</td>\n",
       "      <td>False</td>\n",
       "      <td>False</td>\n",
       "      <td>True</td>\n",
       "      <td>False</td>\n",
       "      <td>False</td>\n",
       "      <td>False</td>\n",
       "    </tr>\n",
       "    <tr>\n",
       "      <th>1</th>\n",
       "      <td>Red Dead Redemption II</td>\n",
       "      <td>https://www.imdb.com/title/tt6161168/?ref_=adv...</td>\n",
       "      <td>2018.0</td>\n",
       "      <td>M</td>\n",
       "      <td>9.7</td>\n",
       "      <td>35,703</td>\n",
       "      <td>Amidst the decline of the Wild West at the tur...</td>\n",
       "      <td>True</td>\n",
       "      <td>True</td>\n",
       "      <td>False</td>\n",
       "      <td>True</td>\n",
       "      <td>False</td>\n",
       "      <td>False</td>\n",
       "      <td>False</td>\n",
       "      <td>False</td>\n",
       "      <td>False</td>\n",
       "    </tr>\n",
       "    <tr>\n",
       "      <th>2</th>\n",
       "      <td>Grand Theft Auto V</td>\n",
       "      <td>https://www.imdb.com/title/tt2103188/?ref_=adv...</td>\n",
       "      <td>2013.0</td>\n",
       "      <td>M</td>\n",
       "      <td>9.5</td>\n",
       "      <td>59,986</td>\n",
       "      <td>Three very different criminals team up for a s...</td>\n",
       "      <td>True</td>\n",
       "      <td>False</td>\n",
       "      <td>False</td>\n",
       "      <td>True</td>\n",
       "      <td>False</td>\n",
       "      <td>False</td>\n",
       "      <td>False</td>\n",
       "      <td>False</td>\n",
       "      <td>False</td>\n",
       "    </tr>\n",
       "  </tbody>\n",
       "</table>\n",
       "</div>"
      ],
      "text/plain": [
       "                     name                                                url  \\\n",
       "0              Spider-Man  https://www.imdb.com/title/tt5807780/?ref_=adv...   \n",
       "1  Red Dead Redemption II  https://www.imdb.com/title/tt6161168/?ref_=adv...   \n",
       "2      Grand Theft Auto V  https://www.imdb.com/title/tt2103188/?ref_=adv...   \n",
       "\n",
       "     year certificate  rating   votes  \\\n",
       "0  2018.0           T     9.2  20,759   \n",
       "1  2018.0           M     9.7  35,703   \n",
       "2  2013.0           M     9.5  59,986   \n",
       "\n",
       "                                                plot  Action  Adventure  \\\n",
       "0  When a new villain threatens New York City, Pe...    True       True   \n",
       "1  Amidst the decline of the Wild West at the tur...    True       True   \n",
       "2  Three very different criminals team up for a s...    True      False   \n",
       "\n",
       "   Comedy  Crime  Family  Fantasy  Mystery  Sci-Fi  Thriller  \n",
       "0   False  False   False     True    False   False     False  \n",
       "1   False   True   False    False    False   False     False  \n",
       "2   False   True   False    False    False   False     False  "
      ]
     },
     "execution_count": 11,
     "metadata": {},
     "output_type": "execute_result"
    }
   ],
   "source": [
    "df_excel.head(3)"
   ]
  },
  {
   "cell_type": "code",
   "execution_count": 12,
   "id": "073b9c81",
   "metadata": {},
   "outputs": [],
   "source": [
    "df_excel.to_csv(\"ejercicios_pair_modulo_02/files/videogames.csv\")"
   ]
  },
  {
   "cell_type": "code",
   "execution_count": 16,
   "id": "4aa38e71",
   "metadata": {},
   "outputs": [],
   "source": [
    "import json"
   ]
  },
  {
   "cell_type": "code",
   "execution_count": 17,
   "id": "39921587",
   "metadata": {},
   "outputs": [],
   "source": [
    "with open (\"ejercicios_pair_modulo_02/files/personal.json\", \"r\") as f:\n",
    "    personal = json.load(f)"
   ]
  },
  {
   "cell_type": "code",
   "execution_count": 18,
   "id": "8c7b8e23",
   "metadata": {},
   "outputs": [
    {
     "data": {
      "text/plain": [
       "{'workers': [{'nombre': 'Ana',\n",
       "   'edad': 34,\n",
       "   'experiencia': 5,\n",
       "   'nivel': 'Senior',\n",
       "   'salario': 50000,\n",
       "   'mascota': 'gatos'},\n",
       "  {'nombre': 'Eva',\n",
       "   'edad': 37,\n",
       "   'experiencia': 2,\n",
       "   'nivel': 'Mid',\n",
       "   'salario': 35000},\n",
       "  {'nombre': 'Marta',\n",
       "   'edad': 27,\n",
       "   'experiencia': 1,\n",
       "   'nivel': 'Junior',\n",
       "   'salario': 25000},\n",
       "  {'nombre': 'Paula',\n",
       "   'edad': 30,\n",
       "   'experiencia': 3,\n",
       "   'nivel': 'Mid',\n",
       "   'salario': 35000}]}"
      ]
     },
     "execution_count": 18,
     "metadata": {},
     "output_type": "execute_result"
    }
   ],
   "source": [
    "personal"
   ]
  },
  {
   "cell_type": "code",
   "execution_count": null,
   "id": "ef399d35",
   "metadata": {},
   "outputs": [],
   "source": []
  }
 ],
 "metadata": {
  "kernelspec": {
   "display_name": "base",
   "language": "python",
   "name": "python3"
  },
  "language_info": {
   "codemirror_mode": {
    "name": "ipython",
    "version": 3
   },
   "file_extension": ".py",
   "mimetype": "text/x-python",
   "name": "python",
   "nbconvert_exporter": "python",
   "pygments_lexer": "ipython3",
   "version": "3.13.5"
  }
 },
 "nbformat": 4,
 "nbformat_minor": 5
}
